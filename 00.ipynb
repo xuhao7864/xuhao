{
 "cells": [
  {
   "cell_type": "markdown",
   "metadata": {
    "id": "N1IG94HncXZl"
   },
   "source": [
    "# Задание\n",
    "\n",
    "Выведите справку по команде `numpy.linspace()` в ячейке ниже.\n"
   ]
  },
  {
   "cell_type": "code",
   "execution_count": 19,
   "metadata": {
    "colab": {
     "base_uri": "https://localhost:8080/"
    },
    "id": "BNxEH5DWHYus",
    "outputId": "db997bb5-a2be-48c1-91c8-647c73593a2f"
   },
   "outputs": [
    {
     "name": "stdout",
     "output_type": "stream",
     "text": [
      "[1.  1.5 2. ]\n"
     ]
    }
   ],
   "source": [
    "import numpy\n",
    "print(numpy.linspace(1, 2, 3))"
   ]
  },
  {
   "cell_type": "markdown",
   "metadata": {
    "id": "KuOI-DBecMsX"
   },
   "source": [
    "# Задание\n",
    "\n",
    "Посмотрите, что будет, если записать по индексу [1] любое значение.\n",
    "Как видно, функция `index()` вызывается от самого списка (то есть это функция списка) и выводит индекс элемента, если такое значение есть. Теперь проверьте, что же будет, если вызвать `index()` по значению, которого нет?"
   ]
  },
  {
   "cell_type": "code",
   "execution_count": 12,
   "metadata": {
    "colab": {
     "base_uri": "https://localhost:8080/",
     "height": 173
    },
    "id": "9f_4onVKW1Yp",
    "outputId": "3962f937-fd5d-47d8-cbbf-0095170c78a7"
   },
   "outputs": [
    {
     "name": "stdout",
     "output_type": "stream",
     "text": [
      "0\n"
     ]
    },
    {
     "ename": "ValueError",
     "evalue": "'6' is not in list",
     "output_type": "error",
     "traceback": [
      "\u001b[1;31m---------------------------------------------------------------------------\u001b[0m",
      "\u001b[1;31mValueError\u001b[0m                                Traceback (most recent call last)",
      "\u001b[1;32m<ipython-input-12-ca9f7ec31c8a>\u001b[0m in \u001b[0;36m<module>\u001b[1;34m\u001b[0m\n\u001b[0;32m      1\u001b[0m \u001b[0mlist1\u001b[0m \u001b[1;33m=\u001b[0m \u001b[1;33m[\u001b[0m\u001b[1;34m'1'\u001b[0m\u001b[1;33m,\u001b[0m\u001b[1;34m'2'\u001b[0m\u001b[1;33m,\u001b[0m\u001b[1;34m'3'\u001b[0m\u001b[1;33m,\u001b[0m\u001b[1;34m'4'\u001b[0m\u001b[1;33m,\u001b[0m\u001b[1;34m'5'\u001b[0m\u001b[1;33m]\u001b[0m\u001b[1;33m\u001b[0m\u001b[1;33m\u001b[0m\u001b[0m\n\u001b[0;32m      2\u001b[0m \u001b[0mprint\u001b[0m\u001b[1;33m(\u001b[0m\u001b[0mlist1\u001b[0m\u001b[1;33m.\u001b[0m\u001b[0mindex\u001b[0m\u001b[1;33m(\u001b[0m\u001b[1;34m'1'\u001b[0m\u001b[1;33m)\u001b[0m\u001b[1;33m)\u001b[0m\u001b[1;33m\u001b[0m\u001b[1;33m\u001b[0m\u001b[0m\n\u001b[1;32m----> 3\u001b[1;33m \u001b[0mprint\u001b[0m\u001b[1;33m(\u001b[0m\u001b[0mlist1\u001b[0m\u001b[1;33m.\u001b[0m\u001b[0mindex\u001b[0m\u001b[1;33m(\u001b[0m\u001b[1;34m'6'\u001b[0m\u001b[1;33m)\u001b[0m\u001b[1;33m)\u001b[0m\u001b[1;33m\u001b[0m\u001b[1;33m\u001b[0m\u001b[0m\n\u001b[0m",
      "\u001b[1;31mValueError\u001b[0m: '6' is not in list"
     ]
    }
   ],
   "source": [
    "list1 = ['1','2','3','4','5']\n",
    "print(list1.index('1'))\n",
    "print(list1.index('6'))"
   ]
  },
  {
   "cell_type": "markdown",
   "metadata": {
    "id": "kUthmzbtXNuB"
   },
   "source": [
    "# Отлично, вот конкретно это *значение* он возвращает, если элемента нет. Осталось узнать, как добавить элемент в список. Воспользуйтесь функцией `append()` списка, чтобы добавить элемент в список и выведите весь список."
   ]
  },
  {
   "cell_type": "code",
   "execution_count": 13,
   "metadata": {
    "colab": {
     "base_uri": "https://localhost:8080/"
    },
    "id": "5e79CkE8XlLt",
    "outputId": "bd6bef23-cbab-4511-c76e-3ae684c7a456"
   },
   "outputs": [
    {
     "data": {
      "text/plain": [
       "['1', '2', '3', '4', '5', '6']"
      ]
     },
     "execution_count": 13,
     "metadata": {},
     "output_type": "execute_result"
    }
   ],
   "source": [
    "list1 = ['1','2','3','4','5']\n",
    "list1.append('6')\n",
    "list1"
   ]
  },
  {
   "cell_type": "markdown",
   "metadata": {
    "id": "bdjlDJumcJ-d"
   },
   "source": [
    "# Задание\n",
    "\n",
    "Посмотрите, что будет, если записать по индексу [1] любое значение."
   ]
  },
  {
   "cell_type": "code",
   "execution_count": 17,
   "metadata": {
    "colab": {
     "base_uri": "https://localhost:8080/",
     "height": 173
    },
    "id": "V67Sbb_IYiNb",
    "outputId": "2cb9575b-4825-4e2a-d58a-07fddad62584"
   },
   "outputs": [
    {
     "data": {
      "text/plain": [
       "0"
      ]
     },
     "execution_count": 17,
     "metadata": {},
     "output_type": "execute_result"
    }
   ],
   "source": [
    "var_tuple = (1, '111', 'hey')\n",
    "var_tuple.index(1)"
   ]
  },
  {
   "cell_type": "markdown",
   "metadata": {
    "id": "3IjO3edHZi2F"
   },
   "source": [
    "# Задание\n",
    "\n",
    "Попробуйте создать новый словарь `new_dict` с другими парами ключ-значение и воспользуйтесь функцией `var_dict.update(new_dict)` (мы передаем новый словарь как аргумент функции). Посмотрите, что поменялось в обоих словарях."
   ]
  },
  {
   "cell_type": "code",
   "execution_count": 18,
   "metadata": {
    "colab": {
     "base_uri": "https://localhost:8080/"
    },
    "id": "vdsT1U4MZ8Pl",
    "outputId": "fe1f3edc-2f87-429c-e6a7-48f39487b509"
   },
   "outputs": [
    {
     "name": "stdout",
     "output_type": "stream",
     "text": [
      "{1: 'one', 2: 'two'}\n",
      "{1: 'one', 2: 'two', 3: 'three'}\n"
     ]
    }
   ],
   "source": [
    "var_dict= {1: \"one\", 2: \"three\"}\n",
    "new_dict = {2: \"two\"}\n",
    "var_dict.update(new_dict)\n",
    "print(var_dict)\n",
    "new_dict = {3: \"three\"}\n",
    "var_dict.update(new_dict)\n",
    "print(var_dict)"
   ]
  },
  {
   "cell_type": "markdown",
   "metadata": {
    "id": "mWiGshiaaTc8"
   },
   "source": [
    "# Задание\n",
    "\n",
    "Создайте свое множество `new_set` и с помощью операторов \"|\" и \"&\" получите объединение и пересечение множеств. Выведите результаты."
   ]
  },
  {
   "cell_type": "code",
   "execution_count": 58,
   "metadata": {
    "colab": {
     "base_uri": "https://localhost:8080/"
    },
    "id": "hfhRlEi5ajhE",
    "outputId": "1baf585f-7d28-4a63-b842-f4ec024ca00f"
   },
   "outputs": [
    {
     "name": "stdout",
     "output_type": "stream",
     "text": [
      "{'abcd', 'no, keys', 'aefn', 'only unique values!'}\n",
      "set()\n"
     ]
    }
   ],
   "source": [
    "new_set = {\n",
    "    'abcd',\n",
    "    'aefn'\n",
    "}\n",
    "print(new_set | var_set)\n",
    "print(new_set & var_set)"
   ]
  },
  {
   "cell_type": "code",
   "execution_count": 20,
   "metadata": {},
   "outputs": [
    {
     "name": "stdout",
     "output_type": "stream",
     "text": [
      "set()\n",
      "{'l', 'h', 'w', 'u', 'i', 'atelichina', 'c'}\n"
     ]
    }
   ],
   "source": [
    "x = set('wulichi')  \n",
    "y = set(['atelichina'])  \n",
    "x, y  \n",
    "a=x & y \n",
    "b=x | y\n",
    "print(a)\n",
    "print(b)"
   ]
  },
  {
   "cell_type": "markdown",
   "metadata": {
    "id": "NaMYoLkBe47b"
   },
   "source": [
    "# Задание\n",
    "\n",
    "Закрепим, создайте свой список и выполните проход по нему с помощью цикла `for`."
   ]
  },
  {
   "cell_type": "code",
   "execution_count": 22,
   "metadata": {
    "colab": {
     "base_uri": "https://localhost:8080/"
    },
    "id": "_qqbULlVeI92",
    "outputId": "5f24031d-b5a9-4138-b077-efed5296b99f"
   },
   "outputs": [
    {
     "name": "stdout",
     "output_type": "stream",
     "text": [
      "0\n",
      "1\n",
      "2\n",
      "3\n",
      "4\n",
      "5\n",
      "6\n",
      "7\n",
      "8\n",
      "9\n"
     ]
    }
   ],
   "source": [
    "list = ['0','1','2','3','4','5','6','7','8','9']\n",
    "for i in list:\n",
    "    print(i)"
   ]
  },
  {
   "cell_type": "markdown",
   "metadata": {
    "id": "w0rvY_XicwbT"
   },
   "source": [
    "# Задание\n",
    "\n",
    "Напишите функцию для вычисления периметра прямоугольника. В качестве аргументов передайте стороны прямоугольника."
   ]
  },
  {
   "cell_type": "code",
   "execution_count": 25,
   "metadata": {
    "colab": {
     "base_uri": "https://localhost:8080/"
    },
    "id": "4DE6yOUsdUcR",
    "outputId": "fb81009d-d1df-499b-91d5-a88d56083c7e"
   },
   "outputs": [
    {
     "name": "stdout",
     "output_type": "stream",
     "text": [
      "6\n"
     ]
    }
   ],
   "source": [
    "def Perimeter(w, h):  \n",
    "     return (w+h)*2 \n",
    "print(Perimeter(1,2))  "
   ]
  },
  {
   "cell_type": "markdown",
   "metadata": {
    "id": "tyr2BxI8hJ__"
   },
   "source": [
    "## Задание\n",
    "\n",
    "Напишите класс без конструктора (так можно, у него будет конструктор по-умолчанию) с методом, который на вход принимает число `x` и производит вычисления по формуле: $2*e^{x}$ \n",
    "\n",
    "Для вычисления степени экспоненты воспользуйтесь функцией `exp()` модуля `math` (не забудьте подключить его, устаналивать не требуется). \n",
    "\n",
    "Выведите в цикле значения метода при целочисленных аргументах от 4 до 12 с использованием новой функции.\n",
    "\n",
    "> Для создания диапазона чисел (для цикла) воспользуйтесь справкой функции `range()`"
   ]
  },
  {
   "cell_type": "code",
   "execution_count": 1,
   "metadata": {
    "colab": {
     "base_uri": "https://localhost:8080/"
    },
    "id": "LXnvKjIQgo8O",
    "outputId": "e79b9ac3-d399-49e2-f08d-188b21f927f4"
   },
   "outputs": [
    {
     "name": "stdout",
     "output_type": "stream",
     "text": [
      "109.2\n",
      "296.83\n",
      "806.86\n",
      "2193.27\n",
      "5961.92\n",
      "16206.17\n",
      "44052.93\n",
      "119748.28\n",
      "325509.58\n"
     ]
    }
   ],
   "source": [
    "import math\n",
    "class myclass:\n",
    "    def _init_(self,x):\n",
    "        result = 2*math.exp(x)\n",
    "    for x in range(4,13):\n",
    "         result = 2*math.exp(x)\n",
    "         result_2=round(result,2)\n",
    "         print(result_2)"
   ]
  },
  {
   "cell_type": "markdown",
   "metadata": {
    "id": "x48Zd_CYfBek"
   },
   "source": [
    "## Задание\n",
    "\n",
    "Напишите функцию, которая принимает имя, возраст и среднюю оценку в качестве аргументов и отображает данные тремя способами, рассмотренными ранее, в виде строк.\n",
    "\n",
    "```\n",
    "Добрый день! Мое имя: <name>, возраст: <age>, оценка: <avg_grade>. Приятно познакомиться!\n",
    "```\n",
    "\n",
    "> Средняя оценка должна отображаться не более, чем с двумя символами после запятой."
   ]
  },
  {
   "cell_type": "code",
   "execution_count": 30,
   "metadata": {},
   "outputs": [
    {
     "ename": "SyntaxError",
     "evalue": "invalid syntax (<ipython-input-30-14032a250dd3>, line 2)",
     "output_type": "error",
     "traceback": [
      "\u001b[1;36m  File \u001b[1;32m\"<ipython-input-30-14032a250dd3>\"\u001b[1;36m, line \u001b[1;32m2\u001b[0m\n\u001b[1;33m    print(Привет, меня зовут %s и мне %d,оценка %.1f'(name,age,grade))\u001b[0m\n\u001b[1;37m                       ^\u001b[0m\n\u001b[1;31mSyntaxError\u001b[0m\u001b[1;31m:\u001b[0m invalid syntax\n"
     ]
    }
   ],
   "source": [
    "def intro (name, age, grade):\n",
    "    print(Привет, меня зовут %s и мне %d,оценка %.1f'(name,age,grade))\n",
    "intro('chichi',23,88.88)"
   ]
  },
  {
   "cell_type": "markdown",
   "metadata": {
    "id": "6KTSxXmnLDA6"
   },
   "source": [
    "# Больше тренировок!"
   ]
  },
  {
   "cell_type": "markdown",
   "metadata": {
    "id": "RvewWQC4LG5Y"
   },
   "source": [
    "- Задачка на среднее https://www.codewars.com/kata/563e320cee5dddcf77000158/train/python\n",
    "- Починка if условия https://www.codewars.com/kata/57089707fe2d01529f00024a/train/python\n",
    "- Поиск неиспользованного ID https://www.codewars.com/kata/55eea63119278d571d00006a/train/python\n",
    "- Работа со строками https://www.codewars.com/kata/55a70521798b14d4750000a4/train/python\n",
    "- Определение четности https://www.codewars.com/kata/53da3dbb4a5168369a0000fe/train/python\n",
    "- Удаление элементов строк (работа с индексами) https://www.codewars.com/kata/56bc28ad5bdaeb48760009b0/train/python\n",
    "- Регулярные выражения https://www.codewars.com/kata/57eae20f5500ad98e50002c5/train/python\n",
    "- Сложение https://www.codewars.com/kata/55d24f55d7dd296eb9000030/train/python\n",
    "- Подсчет овечек https://www.codewars.com/kata/54edbc7200b811e956000556/train/python\n",
    "- Подсчет гласных букв https://www.codewars.com/kata/54ff3102c1bad923760001f3/train/python\n",
    "- Строки-числа, поиск минимума/максимума https://www.codewars.com/kata/554b4ac871d6813a03000035/train/python\n",
    "- Поиск повторяющихся букв https://www.codewars.com/kata/54ba84be607a92aa900000f1/train/python\n",
    "- Замена символов https://www.codewars.com/kata/554e4a2f232cdd87d9000038/train/python\n",
    "\n",
    "И т.д. на https://www.codewars.com/ "
   ]
  },
  {
   "cell_type": "markdown",
   "metadata": {
    "id": "qxDH6XJ2N5-d"
   },
   "source": [
    "Если хочется поиграть: \n",
    "- https://codecombat.com/\n",
    "- https://www.codingame.com/ide/puzzle/onboarding"
   ]
  },
  {
   "cell_type": "code",
   "execution_count": null,
   "metadata": {
    "id": "K-nBmhW2LFhx"
   },
   "outputs": [],
   "source": []
  }
 ],
 "metadata": {
  "colab": {
   "collapsed_sections": [],
   "name": "Pr00_Python.ipynb",
   "provenance": []
  },
  "kernelspec": {
   "display_name": "Python 3",
   "language": "python",
   "name": "python3"
  },
  "language_info": {
   "codemirror_mode": {
    "name": "ipython",
    "version": 3
   },
   "file_extension": ".py",
   "mimetype": "text/x-python",
   "name": "python",
   "nbconvert_exporter": "python",
   "pygments_lexer": "ipython3",
   "version": "3.8.5"
  }
 },
 "nbformat": 4,
 "nbformat_minor": 1
}
